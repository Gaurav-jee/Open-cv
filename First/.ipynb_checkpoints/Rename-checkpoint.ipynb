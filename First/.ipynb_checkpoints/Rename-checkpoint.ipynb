{
 "cells": [
  {
   "cell_type": "markdown",
   "id": "7381fd1a",
   "metadata": {},
   "source": [
    "# Basics"
   ]
  },
  {
   "cell_type": "code",
   "execution_count": 2,
   "id": "ce85f4ec",
   "metadata": {},
   "outputs": [],
   "source": [
    "import cv2"
   ]
  },
  {
   "cell_type": "code",
   "execution_count": 3,
   "id": "1a289c75",
   "metadata": {},
   "outputs": [],
   "source": [
    "img = cv2.imread('first.jpg')"
   ]
  },
  {
   "cell_type": "code",
   "execution_count": 10,
   "id": "8eaa7add",
   "metadata": {},
   "outputs": [],
   "source": [
    "cv2.imshow('webcam',img)\n",
    "cv2.waitKey(0)\n",
    "cv2.destroyAllWindows()"
   ]
  },
  {
   "cell_type": "code",
   "execution_count": 5,
   "id": "fae2fd79",
   "metadata": {},
   "outputs": [],
   "source": [
    "cv2.imshow('webcam',img)\n",
    "cv2.waitKey(0)\n",
    "cv2.destroyAllWindows()"
   ]
  },
  {
   "cell_type": "code",
   "execution_count": 6,
   "id": "a4e3a823",
   "metadata": {},
   "outputs": [
    {
     "data": {
      "text/plain": [
       "(667, 1000, 3)"
      ]
     },
     "execution_count": 6,
     "metadata": {},
     "output_type": "execute_result"
    }
   ],
   "source": [
    "img.shape"
   ]
  },
  {
   "cell_type": "code",
   "execution_count": 8,
   "id": "7be721ec",
   "metadata": {},
   "outputs": [],
   "source": [
    "gray = cv2.cvtColor(img, cv2.COLOR_BGR2GRAY)"
   ]
  },
  {
   "cell_type": "code",
   "execution_count": 9,
   "id": "9c729ae5",
   "metadata": {},
   "outputs": [],
   "source": [
    "cv2.imshow('webcam',gray)\n",
    "cv2.waitKey(0)\n",
    "cv2.destroyAllWindows()"
   ]
  },
  {
   "cell_type": "code",
   "execution_count": 10,
   "id": "7c82affb",
   "metadata": {},
   "outputs": [
    {
     "data": {
      "text/plain": [
       "(667, 1000)"
      ]
     },
     "execution_count": 10,
     "metadata": {},
     "output_type": "execute_result"
    }
   ],
   "source": [
    "gray.shape"
   ]
  },
  {
   "cell_type": "code",
   "execution_count": 11,
   "id": "7fc5caa0",
   "metadata": {},
   "outputs": [
    {
     "data": {
      "text/plain": [
       "numpy.ndarray"
      ]
     },
     "execution_count": 11,
     "metadata": {},
     "output_type": "execute_result"
    }
   ],
   "source": [
    "type(img[0])"
   ]
  },
  {
   "cell_type": "code",
   "execution_count": 12,
   "id": "9fe73b9c",
   "metadata": {},
   "outputs": [
    {
     "data": {
      "text/plain": [
       "numpy.ndarray"
      ]
     },
     "execution_count": 12,
     "metadata": {},
     "output_type": "execute_result"
    }
   ],
   "source": [
    "type(img[0][0])"
   ]
  },
  {
   "cell_type": "code",
   "execution_count": 17,
   "id": "25512988",
   "metadata": {},
   "outputs": [
    {
     "data": {
      "text/plain": [
       "numpy.uint8"
      ]
     },
     "execution_count": 17,
     "metadata": {},
     "output_type": "execute_result"
    }
   ],
   "source": [
    "type(img[0][0][0])"
   ]
  },
  {
   "cell_type": "code",
   "execution_count": 19,
   "id": "da9d5b80",
   "metadata": {},
   "outputs": [],
   "source": [
    "hs = cv2.cvtColor(img, cv2.COLOR_BGR2HSV)"
   ]
  },
  {
   "cell_type": "code",
   "execution_count": 20,
   "id": "bec56bfa",
   "metadata": {},
   "outputs": [],
   "source": [
    "cv2.imshow('webcam',hs)\n",
    "cv2.waitKey(0)\n",
    "cv2.destroyAllWindows()"
   ]
  },
  {
   "cell_type": "code",
   "execution_count": 21,
   "id": "bded7c6d",
   "metadata": {},
   "outputs": [
    {
     "data": {
      "text/plain": [
       "(667, 1000, 3)"
      ]
     },
     "execution_count": 21,
     "metadata": {},
     "output_type": "execute_result"
    }
   ],
   "source": [
    "hs.shape"
   ]
  },
  {
   "cell_type": "markdown",
   "id": "7530bec0",
   "metadata": {},
   "source": [
    "# Video capture from webcam"
   ]
  },
  {
   "cell_type": "code",
   "execution_count": 11,
   "id": "97002533",
   "metadata": {},
   "outputs": [],
   "source": [
    "import cv2"
   ]
  },
  {
   "cell_type": "code",
   "execution_count": 15,
   "id": "f8898e3d",
   "metadata": {},
   "outputs": [],
   "source": [
    "vid = cv2.VideoCapture('C:/Users/GAURAV JEE/Downloads/samples_data_Megamind_bugy.avi')"
   ]
  },
  {
   "cell_type": "code",
   "execution_count": 16,
   "id": "daaf7866",
   "metadata": {},
   "outputs": [],
   "source": [
    "while True:\n",
    "    try:\n",
    "        res, frame=vid.read()\n",
    "        cv2.imshow('Window2', frame)\n",
    "    except:\n",
    "        pass\n",
    "    if cv2.waitKey(1) == ord('q'):\n",
    "        break;\n",
    "cv2.destroyAllWindows()"
   ]
  },
  {
   "cell_type": "code",
   "execution_count": null,
   "id": "32757f83",
   "metadata": {},
   "outputs": [],
   "source": []
  },
  {
   "cell_type": "markdown",
   "id": "968ba4e4",
   "metadata": {},
   "source": [
    "# Lecture II"
   ]
  },
  {
   "cell_type": "code",
   "execution_count": 4,
   "id": "dc3e1614",
   "metadata": {},
   "outputs": [],
   "source": [
    "img = cv2.imread('first.jpg')\n",
    "cv2.imshow('webcam',img)\n",
    "cv2.waitKey(0)\n",
    "cv2.destroyAllWindows()"
   ]
  },
  {
   "cell_type": "code",
   "execution_count": 5,
   "id": "0f47d6dc",
   "metadata": {},
   "outputs": [],
   "source": [
    "reImg = cv2.resize(img, (100, 200))\n",
    "reImg = cv2.imread('first.jpg')\n",
    "cv2.imshow('webcam',reImg)\n",
    "cv2.waitKey(0)\n",
    "cv2.destroyAllWindows() "
   ]
  },
  {
   "cell_type": "code",
   "execution_count": 6,
   "id": "4b994154",
   "metadata": {},
   "outputs": [],
   "source": [
    "gray = cv2.cvtColor(reImg, cv2.COLOR_BGR2GRAY)\n",
    "reImg = cv2.imread('first.jpg')\n",
    "cv2.imshow('webcam',gray)\n",
    "cv2.waitKey(0)\n",
    "cv2.destroyAllWindows() "
   ]
  },
  {
   "cell_type": "code",
   "execution_count": 7,
   "id": "5cb68a83",
   "metadata": {},
   "outputs": [],
   "source": [
    "canny_img = cv2.Canny(gray, 60, 60)\n",
    "\n",
    "cv2.imshow('webcam',canny_img)\n",
    "cv2.waitKey(0)\n",
    "cv2.destroyAllWindows() "
   ]
  },
  {
   "cell_type": "code",
   "execution_count": 8,
   "id": "6002a051",
   "metadata": {},
   "outputs": [],
   "source": [
    "# erotion to remove noise\n",
    "# Dilution to smooth\n",
    "\n"
   ]
  },
  {
   "cell_type": "code",
   "execution_count": 9,
   "id": "40554551",
   "metadata": {},
   "outputs": [],
   "source": [
    "#Erode\n",
    "import numpy as np\n",
    "kernel = np.ones((1,1), 'uint8')*16\n",
    "erode = cv2.erode(canny_img,kernel, iterations=1)\n",
    "\n",
    "\n",
    "cv2.imshow('webcam',erode)\n",
    "cv2.waitKey(0)\n",
    "cv2.destroyAllWindows() "
   ]
  },
  {
   "cell_type": "code",
   "execution_count": 10,
   "id": "10f25646",
   "metadata": {},
   "outputs": [],
   "source": [
    "#Dilate\n",
    "kernel = np.ones((1,1), 'uint8')*100\n",
    "dilate = cv2.dilate(canny_img,kernel, iterations=3)\n",
    "\n",
    "\n",
    "cv2.imshow('webcam',dilate)\n",
    "cv2.waitKey(0)\n",
    "cv2.destroyAllWindows() "
   ]
  },
  {
   "cell_type": "code",
   "execution_count": 15,
   "id": "c7184346",
   "metadata": {},
   "outputs": [
    {
     "data": {
      "text/plain": [
       "<matplotlib.image.AxesImage at 0x174c1d5bc08>"
      ]
     },
     "execution_count": 15,
     "metadata": {},
     "output_type": "execute_result"
    },
    {
     "data": {
      "image/png": "[encoded data removed]",
      "text/plain": [
       "<Figure size 432x288 with 1 Axes>"
      ]
     },
     "metadata": {
      "needs_background": "light"
     },
     "output_type": "display_data"
    }
   ],
   "source": [
    "from matplotlib import pyplot as plt \n",
    "blank = np.ones((500, 500, 3), 'uint8') #black\n",
    "plt.imshow(blank)"
   ]
  },
  {
   "cell_type": "code",
   "execution_count": 14,
   "id": "ce654211",
   "metadata": {},
   "outputs": [
    {
     "data": {
      "text/plain": [
       "<matplotlib.image.AxesImage at 0x174c1ce4088>"
      ]
     },
     "execution_count": 14,
     "metadata": {},
     "output_type": "execute_result"
    },
    {
     "data": {
      "image/png": "[encoded data removed]",
      "text/plain": [
       "<Figure size 432x288 with 1 Axes>"
      ]
     },
     "metadata": {
      "needs_background": "light"
     },
     "output_type": "display_data"
    }
   ],
   "source": [
    "white = np.ones((500, 500, 3), 'uint8')*255 #white\n",
    "plt.imshow(white)"
   ]
  },
  {
   "cell_type": "code",
   "execution_count": 16,
   "id": "40b7fb75",
   "metadata": {},
   "outputs": [
    {
     "data": {
      "text/plain": [
       "<matplotlib.image.AxesImage at 0x174c1dbb188>"
      ]
     },
     "execution_count": 16,
     "metadata": {},
     "output_type": "execute_result"
    },
    {
     "data": {
      "image/png": "[encoded data removed]",
      "text/plain": [
       "<Figure size 432x288 with 1 Axes>"
      ]
     },
     "metadata": {
      "needs_background": "light"
     },
     "output_type": "display_data"
    }
   ],
   "source": [
    "random = np.ones((500, 500, 3), 'uint8')*155 #white\n",
    "plt.imshow(random)"
   ]
  },
  {
   "cell_type": "code",
   "execution_count": 40,
   "id": "223664ed",
   "metadata": {},
   "outputs": [],
   "source": [
    "blank = np.ones((500, 500,3), 'uint8')*150\n",
    "cv2.imshow('win 1', blank)\n",
    "cv2.waitKey(0)\n",
    "cv2.destroyAllWindows()"
   ]
  },
  {
   "cell_type": "code",
   "execution_count": 38,
   "id": "bd7f533b",
   "metadata": {},
   "outputs": [],
   "source": [
    "blank[:] = [0,0,0]"
   ]
  },
  {
   "cell_type": "code",
   "execution_count": 32,
   "id": "0b2f1cd8",
   "metadata": {},
   "outputs": [
    {
     "data": {
      "text/plain": [
       "array([[[0, 0, 0],\n",
       "        [0, 0, 0],\n",
       "        [0, 0, 0],\n",
       "        ...,\n",
       "        [0, 0, 0],\n",
       "        [0, 0, 0],\n",
       "        [0, 0, 0]],\n",
       "\n",
       "       [[0, 0, 0],\n",
       "        [0, 0, 0],\n",
       "        [0, 0, 0],\n",
       "        ...,\n",
       "        [0, 0, 0],\n",
       "        [0, 0, 0],\n",
       "        [0, 0, 0]],\n",
       "\n",
       "       [[0, 0, 0],\n",
       "        [0, 0, 0],\n",
       "        [0, 0, 0],\n",
       "        ...,\n",
       "        [0, 0, 0],\n",
       "        [0, 0, 0],\n",
       "        [0, 0, 0]],\n",
       "\n",
       "       ...,\n",
       "\n",
       "       [[0, 0, 0],\n",
       "        [0, 0, 0],\n",
       "        [0, 0, 0],\n",
       "        ...,\n",
       "        [0, 0, 0],\n",
       "        [0, 0, 0],\n",
       "        [0, 0, 0]],\n",
       "\n",
       "       [[0, 0, 0],\n",
       "        [0, 0, 0],\n",
       "        [0, 0, 0],\n",
       "        ...,\n",
       "        [0, 0, 0],\n",
       "        [0, 0, 0],\n",
       "        [0, 0, 0]],\n",
       "\n",
       "       [[0, 0, 0],\n",
       "        [0, 0, 0],\n",
       "        [0, 0, 0],\n",
       "        ...,\n",
       "        [0, 0, 0],\n",
       "        [0, 0, 0],\n",
       "        [0, 0, 0]]], dtype=uint8)"
      ]
     },
     "execution_count": 32,
     "metadata": {},
     "output_type": "execute_result"
    }
   ],
   "source": [
    "blank"
   ]
  },
  {
   "cell_type": "code",
   "execution_count": 50,
   "id": "0338c128",
   "metadata": {},
   "outputs": [],
   "source": [
    "green = np.ones((500, 500, 3))*[0, 150, 0]"
   ]
  },
  {
   "cell_type": "code",
   "execution_count": 52,
   "id": "c0cf31fa",
   "metadata": {},
   "outputs": [
    {
     "data": {
      "text/plain": [
       "array([[[  0., 150.,   0.],\n",
       "        [  0., 150.,   0.],\n",
       "        [  0., 150.,   0.],\n",
       "        ...,\n",
       "        [  0., 150.,   0.],\n",
       "        [  0., 150.,   0.],\n",
       "        [  0., 150.,   0.]],\n",
       "\n",
       "       [[  0., 150.,   0.],\n",
       "        [  0., 150.,   0.],\n",
       "        [  0., 150.,   0.],\n",
       "        ...,\n",
       "        [  0., 150.,   0.],\n",
       "        [  0., 150.,   0.],\n",
       "        [  0., 150.,   0.]],\n",
       "\n",
       "       [[  0., 150.,   0.],\n",
       "        [  0., 150.,   0.],\n",
       "        [  0., 150.,   0.],\n",
       "        ...,\n",
       "        [  0., 150.,   0.],\n",
       "        [  0., 150.,   0.],\n",
       "        [  0., 150.,   0.]],\n",
       "\n",
       "       ...,\n",
       "\n",
       "       [[  0., 150.,   0.],\n",
       "        [  0., 150.,   0.],\n",
       "        [  0., 150.,   0.],\n",
       "        ...,\n",
       "        [  0., 150.,   0.],\n",
       "        [  0., 150.,   0.],\n",
       "        [  0., 150.,   0.]],\n",
       "\n",
       "       [[  0., 150.,   0.],\n",
       "        [  0., 150.,   0.],\n",
       "        [  0., 150.,   0.],\n",
       "        ...,\n",
       "        [  0., 150.,   0.],\n",
       "        [  0., 150.,   0.],\n",
       "        [  0., 150.,   0.]],\n",
       "\n",
       "       [[  0., 150.,   0.],\n",
       "        [  0., 150.,   0.],\n",
       "        [  0., 150.,   0.],\n",
       "        ...,\n",
       "        [  0., 150.,   0.],\n",
       "        [  0., 150.,   0.],\n",
       "        [  0., 150.,   0.]]])"
      ]
     },
     "execution_count": 52,
     "metadata": {},
     "output_type": "execute_result"
    }
   ],
   "source": [
    "green.shape\n",
    "green"
   ]
  },
  {
   "cell_type": "code",
   "execution_count": 57,
   "id": "a0eadcfc",
   "metadata": {},
   "outputs": [],
   "source": [
    "red = np.ones((500, 500, 3), 'uint8')*[255,0,0]\n",
    "green = np.ones((500, 500, 3), 'uint8')*[0,255,0]\n",
    "blue = np.ones((500, 500, 3), 'uint8')*[0,0,255]"
   ]
  },
  {
   "cell_type": "code",
   "execution_count": 71,
   "id": "779b0057",
   "metadata": {},
   "outputs": [
    {
     "data": {
      "text/plain": [
       "<matplotlib.image.AxesImage at 0x174c6dac608>"
      ]
     },
     "execution_count": 71,
     "metadata": {},
     "output_type": "execute_result"
    },
    {
     "data": {
      "image/png": "[encoded data removed]",
      "text/plain": [
       "<Figure size 3600x1800 with 3 Axes>"
      ]
     },
     "metadata": {
      "needs_background": "light"
     },
     "output_type": "display_data"
    }
   ],
   "source": [
    "#plt.figure()\n",
    "\n",
    "#subplot(r,c) provide the no. of rows and columns\n",
    "f, axarr = plt.subplots(1,3, figsize = (50, 25)) \n",
    "\n",
    "# use the created array to output your multiple images. In this case I have stacked 4 images vertically\n",
    "axarr[0].imshow(red)\n",
    "axarr[1].imshow(green)\n",
    "axarr[2].imshow(blue)\n"
   ]
  },
  {
   "cell_type": "code",
   "execution_count": 83,
   "id": "91959c5a",
   "metadata": {},
   "outputs": [
    {
     "data": {
      "text/plain": [
       "<matplotlib.image.AxesImage at 0x174c82676c8>"
      ]
     },
     "execution_count": 83,
     "metadata": {},
     "output_type": "execute_result"
    },
    {
     "data": {
      "image/png": "[encoded data removed]",
      "text/plain": [
       "<Figure size 432x288 with 1 Axes>"
      ]
     },
     "metadata": {
      "needs_background": "light"
     },
     "output_type": "display_data"
    }
   ],
   "source": [
    "cv2.rectangle(blank,(100,100),(300, 200), (255,0,0), 1) #start - end - color, thickness\n",
    "plt.imshow(blank)"
   ]
  },
  {
   "cell_type": "code",
   "execution_count": 90,
   "id": "3c4d104b",
   "metadata": {},
   "outputs": [],
   "source": [
    "blank = np.ones((500, 500,3), 'uint8')*150"
   ]
  },
  {
   "cell_type": "code",
   "execution_count": 91,
   "id": "f60688bf",
   "metadata": {},
   "outputs": [
    {
     "data": {
      "text/plain": [
       "<matplotlib.image.AxesImage at 0x174c93bd048>"
      ]
     },
     "execution_count": 91,
     "metadata": {},
     "output_type": "execute_result"
    },
    {
     "data": {
      "image/png": "[encoded data removed]",
      "text/plain": [
       "<Figure size 432x288 with 1 Axes>"
      ]
     },
     "metadata": {
      "needs_background": "light"
     },
     "output_type": "display_data"
    }
   ],
   "source": [
    "cv2.circle(blank,(200,200), 200, (255,0,0), 10) #start - end - color, thickness\n",
    "plt.imshow(blank)"
   ]
  },
  {
   "cell_type": "code",
   "execution_count": 93,
   "id": "b844a8af",
   "metadata": {},
   "outputs": [
    {
     "data": {
      "text/plain": [
       "<matplotlib.image.AxesImage at 0x174c9358848>"
      ]
     },
     "execution_count": 93,
     "metadata": {},
     "output_type": "execute_result"
    },
    {
     "data": {
      "image/png": "[encoded data removed]",
      "text/plain": [
       "<Figure size 432x288 with 1 Axes>"
      ]
     },
     "metadata": {
      "needs_background": "light"
     },
     "output_type": "display_data"
    }
   ],
   "source": [
    "blank = np.ones((500, 500,3), 'uint8')*150\n",
    "cv2.line(blank,(200,200), (200,400), (255,0,0), 10) #start - end - color, thickness\n",
    "plt.imshow(blank)"
   ]
  },
  {
   "cell_type": "code",
   "execution_count": 96,
   "id": "03994c44",
   "metadata": {},
   "outputs": [
    {
     "data": {
      "text/plain": [
       "<matplotlib.image.AxesImage at 0x174c948dfc8>"
      ]
     },
     "execution_count": 96,
     "metadata": {},
     "output_type": "execute_result"
    },
    {
     "data": {
      "image/png": "[encoded data removed]",
      "text/plain": [
       "<Figure size 432x288 with 1 Axes>"
      ]
     },
     "metadata": {
      "needs_background": "light"
     },
     "output_type": "display_data"
    }
   ],
   "source": [
    "blank = np.ones((500, 500,3), 'uint8')*150\n",
    "cv2.putText(blank, \"Circle\", (100, 400), cv2.FONT_HERSHEY_TRIPLEX,2, (255,0,0))\n",
    "plt.imshow(blank)"
   ]
  },
  {
   "cell_type": "code",
   "execution_count": 99,
   "id": "52d88aa2",
   "metadata": {},
   "outputs": [],
   "source": [
    "vid = cv2.VideoCapture(0)\n",
    "\n",
    "while True:\n",
    "    try:\n",
    "        _, frame = vid.read()\n",
    "        cv2.imshow('window 1', frame)\n",
    "    except:\n",
    "        pass\n",
    "    if(cv2.waitKey(1) == ord('q')):\n",
    "        break\n",
    "cv2.destroyAllWindows()"
   ]
  },
  {
   "cell_type": "code",
   "execution_count": 116,
   "id": "a0742df7",
   "metadata": {},
   "outputs": [],
   "source": [
    "vid = cv2.VideoCapture(0)\n",
    "while(1):\n",
    "    _, frame = vid.read()\n",
    "    hsv = cv2.cvtColor(frame, cv2.COLOR_BGR2HSV) #covertColor\n",
    "    #cv2.imshow('window_2', hsv)\n",
    "    red_L = np.array([132, 85, 110], 'uint8')\n",
    "    red_U = np.array([179, 250, 250], 'uint8')\n",
    "    redM = cv2.inRange(hsv, red_L, red_U)\n",
    "    kernel = np.ones((50,50), 'uint8')\n",
    "    redM = cv2.dilate(redM, kernel)\n",
    "    conts,_ = cv2.findContours(redM, cv2.RETR_TREE, cv2.CHAIN_APPROX_SIMPLE) \n",
    "    for cont in conts:\n",
    "        area = cv2.contourArea(cont)\n",
    "        if(area>200):\n",
    "            x,y,w,h = cv2.boundingRect(cont)\n",
    "            cv2.rectangle(frame, (x,y), (x+w, y+h), (0,0,255),3)\n",
    "            cv2.putText(frame, \"Red Color\", (x,y), cv2.FONT_HERSHEY_SIMPLEX, 2, (0,0,255))             \n",
    "    cv2.imshow(\"win1\", frame)\n",
    "    if(cv2.waitKey(1) == ord('q')):\n",
    "        break\n",
    "cv2.destroyAllWindows()"
   ]
  },
  {
   "cell_type": "code",
   "execution_count": 114,
   "id": "49812657",
   "metadata": {},
   "outputs": [],
   "source": [
    "# lower = [50, 100, 100]\n",
    "# upper = [70, 255, 255]\n",
    "\n",
    "vid = cv2.VideoCapture(0)\n",
    "while(1):\n",
    "    _, frame = vid.read()\n",
    "    hsv = cv2.cvtColor(frame, cv2.COLOR_BGR2HSV) #covertColor\n",
    "    #cv2.imshow('window_2', hsv)\n",
    "    green_L = np.array([50, 100, 100], 'uint8')\n",
    "    green_U = np.array([70, 255, 255], 'uint8')\n",
    "    greenM = cv2.inRange(hsv, green_L, green_U)\n",
    "    kernel = np.ones((50,50), 'uint8')\n",
    "    greenM = cv2.dilate(greenM, kernel)\n",
    "    conts,_ = cv2.findContours(greenM, cv2.RETR_TREE, cv2.CHAIN_APPROX_SIMPLE) \n",
    "    for cont in conts:\n",
    "        area = cv2.contourArea(cont)\n",
    "        if(area>1):\n",
    "            x,y,w,h = cv2.boundingRect(cont)\n",
    "            cv2.rectangle(frame, (x,y), (x+w, y+h), (0,255,0),3)\n",
    "            cv2.putText(frame, \"Green Color\", (x,y), cv2.FONT_HERSHEY_SIMPLEX, 2, (0,255,0))             \n",
    "    cv2.imshow(\"win1\", frame)\n",
    "    if(cv2.waitKey(1) == ord('q')):\n",
    "        break\n",
    "cv2.destroyAllWindows()"
   ]
  },
  {
   "cell_type": "code",
   "execution_count": null,
   "id": "fc406021",
   "metadata": {},
   "outputs": [],
   "source": []
  }
 ],
 "metadata": {
  "kernelspec": {
   "display_name": "Python 3 (ipykernel)",
   "language": "python",
   "name": "python3"
  },
  "language_info": {
   "codemirror_mode": {
    "name": "ipython",
    "version": 3
   },
   "file_extension": ".py",
   "mimetype": "text/x-python",
   "name": "python",
   "nbconvert_exporter": "python",
   "pygments_lexer": "ipython3",
   "version": "3.7.6"
  }
 },
 "nbformat": 4,
 "nbformat_minor": 5
}
